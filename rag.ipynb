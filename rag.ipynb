{
 "cells": [
  {
   "cell_type": "code",
   "execution_count": 23,
   "metadata": {},
   "outputs": [],
   "source": [
    "from langchain.document_loaders import PyPDFDirectoryLoader,UnstructuredURLLoader\n",
    "from langchain.text_splitter import RecursiveCharacterTextSplitter\n",
    "from langchain.vectorstores import Pinecone\n",
    "from langchain.chains import RetrievalQA\n",
    "from langchain.prompts import PromptTemplate\n",
    "from langchain_huggingface.llms.huggingface_endpoint import HuggingFaceEndpoint # Now the import should work\n",
    "from langchain.embeddings import HuggingFaceEmbeddings\n",
    "from transformers import AutoTokenizer, AutoModel,pipeline,AutoModelForCausalLM\n",
    "from langchain.embeddings import HuggingFaceEmbeddings\n",
    "from langchain_community.vectorstores import FAISS\n",
    "import os"
   ]
  },
  {
   "cell_type": "code",
   "execution_count": 2,
   "metadata": {},
   "outputs": [],
   "source": [
    "import torch"
   ]
  },
  {
   "cell_type": "code",
   "execution_count": 3,
   "metadata": {},
   "outputs": [],
   "source": [
    "URLs=[\n",
    "   'https://rosabon-finance.com/',\n",
    "   'https://rosabon-finance.com/about/who-we-are',\n",
    "   'https://rosabon-finance.com/investment/rosabon-treasury-note',\n",
    "   'https://rosabon-finance.com/investment/rosabon-win-big-note'\n",
    "]\n",
    "\n",
    "loader = UnstructuredURLLoader(urls=URLs)\n",
    "data = loader.load()"
   ]
  },
  {
   "cell_type": "code",
   "execution_count": 4,
   "metadata": {},
   "outputs": [],
   "source": [
    "text_splitter = RecursiveCharacterTextSplitter(chunk_size=500, chunk_overlap=20)"
   ]
  },
  {
   "cell_type": "code",
   "execution_count": 5,
   "metadata": {},
   "outputs": [],
   "source": [
    "text_chunks = text_splitter.split_documents(data)"
   ]
  },
  {
   "cell_type": "code",
   "execution_count": 6,
   "metadata": {},
   "outputs": [
    {
     "data": {
      "text/plain": [
       "[Document(metadata={'source': 'https://rosabon-finance.com/'}, page_content=\"Secure a financially free future\\n\\nEarn as high as 19% interest on your placed funds\\n\\nStart Investing Now\\n\\nAcquire Your Dream Vehicle\\n\\nWith our affordable lease solutions\\n\\nGet A Lease Today\\n\\nAccess Loan Within 24 Hours\\n\\nAccess up to N6,000,000 within 24 hours!\\n\\nGet A Loan Today\\n\\nWe are now live nationwide!\\n\\nAccess up to N6,000,000 within 24 hours!\\n\\nGet A Loan Today\\n\\n\\n\\nCBN\\n\\nLicensed by the Central Bank of Nigeria\\n\\nNigeria's leading Non-Bank Financial Intermediary\\n\\n100k+\\n\\nActive Customers\"),\n",
       " Document(metadata={'source': 'https://rosabon-finance.com/'}, page_content=\"N201+\\n\\nBillion Credit Processed\\n\\n\\n\\nDesign\\n\\n\\n\\nDesign\\n\\nGet Ahead with Lifestyle Solutions Tailored just for you\\n\\nExperience Unlimited Access to Financial Opportunities, Independence and Growth with Rosabon, Today.\\n\\n\\n\\n\\n\\nLoans\\n\\nNeed funds for life's opportunities? Get up to ₦100 Million with our hassle-free, collateral-free Personal & Business loans. We guarantee swift approval for eligible salary earners in private and public sectors. Embrace life's chances with Rosabon today!\\n\\nPersonal Loan\"),\n",
       " Document(metadata={'source': 'https://rosabon-finance.com/'}, page_content=\"Personal Loan\\n\\nBusiness Support Loan\\n\\nEducation Support Loan\\n\\nPublic Sector Loan\\n\\nCheck Eligibility\\n\\n\\n\\n\\n\\nLeases\\n\\nGet unbeatable pricing, preserve capital, and eliminate residual value risk. Upgrade, extend, or return Operating vehicles hassle-free. Trust Rosabon Financial Services, Nigeria's Operating Lease experts. Contact us now!\\n\\nOperating Lease\\n\\nConsumer Finance Lease\\n\\nFleet Management\\n\\nLearn More\\n\\n\\n\\n\\n\\nInvestment\"),\n",
       " Document(metadata={'source': 'https://rosabon-finance.com/'}, page_content=\"Investment\\n\\nWhether you're looking to grow your wealth, live your best life, or retire wealthy, we're here to support you every step of the way. Let us help you embark on a journey to financial success, one step at a time.\\n\\nRosabon Treasury Note (Earn up to 19% p.a)\\n\\nRosabon Earning Plan (Earn up to 13% p.a)\\n\\nRosabon Win Big Note (Earn up to 2% p.m)\\n\\nStart Investing\\n\\nDownload the Rosabon Mobile App ⚡️\\n\\nBuilt to help you make informed decisions, grow your wealth and achieve your dreams.\"),\n",
       " Document(metadata={'source': 'https://rosabon-finance.com/'}, page_content='download on apple store\\n\\n\\n\\ndownload on play store\\n\\n\\n\\nRosabon App\\n\\nGet the right financial insights\\n\\nDownload the rosabon digest now\\n\\n\\n\\nRosabon digest book\\n\\n\\n\\nDesign\\n\\n\\n\\nDesign\\n\\nLatest News\\n\\nGet the latest updates and finance Insight from Experts at Rosabon Financial Services\\n\\nROSABON PLANS N10BN LOAN FACILITY FOR SMES\\n\\nROSABON PLANS N10BN LOAN FACILITY FOR SMES'),\n",
       " Document(metadata={'source': 'https://rosabon-finance.com/'}, page_content='Non-banking financial service provider, Rosabon Financial Services, has announced a new loan facility of up to N10bn for eligible small businesses and corporate organizations...\\n\\nLearn More\\n\\nFINANCIAL TIPS: BE LIKE FEMI: MAKE VALENTINE DAY MORE SPECIAL\\n\\nFINANCIAL TIPS: BE LIKE FEMI: MAKE VALENTINE DAY MORE SPECIAL\\n\\nValentine Day is here again. With the number of Valentine vendors on social media, getting Bisi a perfect gift is not a problem. Femi knows that Bisi, his longtime...\\n\\nLearn More'),\n",
       " Document(metadata={'source': 'https://rosabon-finance.com/'}, page_content=\"Learn More\\n\\nFINANCIAL TIPS: IT'S TIME TO BREAKUP WITH YOUR CAR\\n\\nFINANCIAL TIPS: IT'S TIME TO BREAKUP WITH YOUR CAR\\n\\nAmaka has visited her mechanic workshop thrice this month, due to her frequent and consistent car breakdown. She hopes to replace new one but with the money...\\n\\nLearn More\\n\\nHOW TO SURVIVE THE LONG JANUARY\\n\\nHOW TO SURVIVE THE LONG JANUARY\"),\n",
       " Document(metadata={'source': 'https://rosabon-finance.com/'}, page_content='Surviving financially in the month of January is a lot of struggle, with many projects to complete and less money to spend. As a salary earner...\\n\\nLearn More\\n\\nView blog'),\n",
       " Document(metadata={'source': 'https://rosabon-finance.com/about/who-we-are'}, page_content='About Us\\n\\n\\n\\nOur Mission\\n\\nOur Mission\\n\\n\\n\\nWho We Are\\n\\nWho We Are\\n\\n\\n\\nAwards\\n\\nAwards\\n\\n\\n\\nMilestones\\n\\nMilestones\\n\\nWho We Are\\n\\n\\n\\nWho We Are\\n\\nWho We Are'),\n",
       " Document(metadata={'source': 'https://rosabon-finance.com/about/who-we-are'}, page_content=\"Rosabon Financial Services (RFS) is an award-winning member of the Concept Group licensed by the Central Bank of Nigeria, CBN on April 22, 1993 to provide loans, leases and investments to eligible individuals, SME businesses and Corporate Organizations (medium and Large). A long standing member of the Equipment Leasing Association of Nigeria (ELAN), we have evolved into Nigeria's leading Non-Bank Financial Intermediary and Equipment Leasing firm focused on niche and general markets.\"),\n",
       " Document(metadata={'source': 'https://rosabon-finance.com/about/who-we-are'}, page_content='Our work draws on over 27 years of experience in the field of finance advisory and management, tailoring our lease, loans and investment offerings to meet the financial needs of our customers either on a long or short term. We recognize that we can only be successful when the eligible individuals, businesses and Corporate Organizations we serve are able to reach their vision of success. We have a long-term commitment to helping communities thrive and prosper-both economically and socially –'),\n",
       " Document(metadata={'source': 'https://rosabon-finance.com/about/who-we-are'}, page_content='and socially – with our operations located across several States in Nigeria. Over the years, we have received awards (Local and International) for our outstanding work in the Financial Services industry. Our success is attributed to our emphasis on customer satisfaction, integrity, professionalism and our utmost commitment to excellence. With our headquarters located in Yaba, Lagos, Rosabon Financial Services was founded in 1993.'),\n",
       " Document(metadata={'source': 'https://rosabon-finance.com/investment/rosabon-treasury-note'}, page_content='Rosabon Treasury Note (RTN)\\n\\nRosabon Treasury Note (RTN)\\n\\nGet StartedDownload app\\n\\n“Earn up to 19% interest when you open a Rosabon Treasury Note - RTN account”\\n\\n\\n\\nFlexible Investment Tenor\\n\\nFlexible Investment Tenor\\n\\nInvest on your terms and choose the tenor that fits your financial needs. Available tenors are 90 days, 120 days, 180 days, and 365 days\\n\\n\\n\\nHigh Interest Savings\\n\\nHigh Interest Savings'),\n",
       " Document(metadata={'source': 'https://rosabon-finance.com/investment/rosabon-treasury-note'}, page_content='The Rosabon Treasury Note - RTN offers you much more than you will get on your regular savings account and the government T-Bills. The RTN interest rates are highly competitive and mouthwatering\\n\\n\\n\\nReceive Interest Upfront\\n\\nReceive Interest Upfront\\n\\nDo you need quick cash even as you invest? You have the option of requesting your interest upfront with RTN\\n\\nTestimonials'),\n",
       " Document(metadata={'source': 'https://rosabon-finance.com/investment/rosabon-treasury-note'}, page_content='Testimonials\\n\\nI have had a wonderful experience with Rosabon Financial services. Twice have I accessed their credit facility seamlessly. An account officer was assigned to me who supported me throughout the process. The loan process was done remotely within the shortest period of time. From a scale of 1-10, I give them a pass mark of 8. If you are considering accessing loans, I will recommend Rosabon financial services. You will not regret it. Thank you - Gbenga'),\n",
       " Document(metadata={'source': 'https://rosabon-finance.com/investment/rosabon-treasury-note'}, page_content='I can easily give a 10 star rating to your services. The aesthetic customer engagement session is mind blowing coupled with swift response to issues. Quick disbursement of loan after documentation and verification is the climax of them all. Rosabon financials is definitely a top notch loan rendering financial institution. Thumbs up! - Umar'),\n",
       " Document(metadata={'source': 'https://rosabon-finance.com/investment/rosabon-treasury-note'}, page_content='Thanks to every good work man/woman of rosabon finance. I want to say that I feel good doing business with you. My appreciation to Peter Okonkwor, you are real and legit in your job, every customer would want to work with you. The business with rosabon finance which started on 30 of April 2020 has officially ended 30 of March 2021 in good relationship. - Rosemary\\n\\nJoin thousands of investors on our platform today and start growing your wealth with confidence.'),\n",
       " Document(metadata={'source': 'https://rosabon-finance.com/investment/rosabon-treasury-note'}, page_content='Investing your money wisely is key to achieving your financial goals, and our online investment platform makes it easy for you to do just that.\\n\\n\\n\\ndownload on apple store\\n\\n\\n\\ndownload on play store\\n\\n\\n\\nleft icon\\n\\n\\n\\nright icon'),\n",
       " Document(metadata={'source': 'https://rosabon-finance.com/investment/rosabon-win-big-note'}, page_content='Rosabon Win Big Note (RWIN)\\n\\nRosabon Win Big Note (RWIN)\\n\\nGet StartedDownload app\\n\\n“For every block of N20,000 placed in your account for 30 days, you get 2% and a chance to win up to N2,500,000 at our monthly draws”\\n\\n\\n\\nGet A Chance To Win Up to N2,500,000\\n\\nGet A Chance To Win Up to N2,500,000\\n\\nWith the Rosabon Win Big Note - RWIN, you get the opportunity to win as high as N2,500,000 on a N20,000 investment\\n\\n\\n\\nShorter Investment Tenor\\n\\nShorter Investment Tenor'),\n",
       " Document(metadata={'source': 'https://rosabon-finance.com/investment/rosabon-win-big-note'}, page_content=\"Need a quick and short-term investment that is still rewarding? RWIN has a standard tenor of 30 days making it suitable for those who can't afford to invest for a longer period\\n\\n\\n\\nAmazing Rewards for Grabs In the Monthly Draws\\n\\nAmazing Rewards for Grabs In the Monthly Draws\\n\\nWith RWIN, you don't only earn amazing interest in your funds, but stand a chance to earn high returns, and partake in our monthly raffle draw to win other mouth-watering prizes besides the grand prize of N2,500,000\"),\n",
       " Document(metadata={'source': 'https://rosabon-finance.com/investment/rosabon-win-big-note'}, page_content='Testimonials\\n\\nI have had a wonderful experience with Rosabon Financial services. Twice have I accessed their credit facility seamlessly. An account officer was assigned to me who supported me throughout the process. The loan process was done remotely within the shortest period of time. From a scale of 1-10, I give them a pass mark of 8. If you are considering accessing loans, I will recommend Rosabon financial services. You will not regret it. Thank you - Gbenga'),\n",
       " Document(metadata={'source': 'https://rosabon-finance.com/investment/rosabon-win-big-note'}, page_content='I can easily give a 10 star rating to your services. The aesthetic customer engagement session is mind blowing coupled with swift response to issues. Quick disbursement of loan after documentation and verification is the climax of them all. Rosabon financials is definitely a top notch loan rendering financial institution. Thumbs up! - Umar'),\n",
       " Document(metadata={'source': 'https://rosabon-finance.com/investment/rosabon-win-big-note'}, page_content='Thanks to every good work man/woman of rosabon finance. I want to say that I feel good doing business with you. My appreciation to Peter Okonkwor, you are real and legit in your job, every customer would want to work with you. The business with rosabon finance which started on 30 of April 2020 has officially ended 30 of March 2021 in good relationship. - Rosemary\\n\\nJoin thousands of investors on our platform today and start growing your wealth with confidence.'),\n",
       " Document(metadata={'source': 'https://rosabon-finance.com/investment/rosabon-win-big-note'}, page_content='Investing your money wisely is key to achieving your financial goals, and our online investment platform makes it easy for you to do just that.\\n\\n\\n\\ndownload on apple store\\n\\n\\n\\ndownload on play store\\n\\n\\n\\nleft icon\\n\\n\\n\\nright icon')]"
      ]
     },
     "execution_count": 6,
     "metadata": {},
     "output_type": "execute_result"
    }
   ],
   "source": [
    "text_chunks"
   ]
  },
  {
   "cell_type": "code",
   "execution_count": 15,
   "metadata": {},
   "outputs": [],
   "source": [
    "import os\n",
    "\n",
    "os.environ[\"HUGGINGFACEHUB_API_TOKEN\"] = os.getenv(\"HUGGINGFACEHUB_API_TOKEN\")\n",
    "os.environ['GOOGLE_API_KEY'] = os.getenv(\"GOOGLE_API_KEY\")\n"
   ]
  },
  {
   "cell_type": "code",
   "execution_count": 16,
   "metadata": {},
   "outputs": [],
   "source": [
    "from langchain_google_genai import ChatGoogleGenerativeAI\n",
    "\n",
    "llm = ChatGoogleGenerativeAI(\n",
    "    model=\"gemini-1.5-pro\",\n",
    "    temperature=0,\n",
    "    max_tokens=None,\n",
    "    timeout=None,\n",
    "    max_retries=2,\n",
    "    # other params...\n",
    ")"
   ]
  },
  {
   "cell_type": "code",
   "execution_count": 17,
   "metadata": {},
   "outputs": [
    {
     "data": {
      "text/plain": [
       "AIMessage(content='Bola Ahmed Tinubu is a Nigerian politician who served as the Governor of Lagos State from 1999 to 2007 and is the current president of Nigeria.  He assumed the presidency on May 29, 2023.  Before his governorship, he was a senator representing Lagos West Senatorial District during the brief Third Republic.  Tinubu is a prominent member of the All Progressives Congress (APC) party and played a significant role in its formation.  He is often referred to as a national leader within the party.', additional_kwargs={}, response_metadata={'prompt_feedback': {'block_reason': 0, 'safety_ratings': []}, 'finish_reason': 'STOP', 'safety_ratings': []}, id='run-2599a3d1-5845-4e69-9005-a9d1d52d38d0-0', usage_metadata={'input_tokens': 5, 'output_tokens': 113, 'total_tokens': 118, 'input_token_details': {'cache_read': 0}})"
      ]
     },
     "execution_count": 17,
     "metadata": {},
     "output_type": "execute_result"
    }
   ],
   "source": [
    "llm.invoke(\"who is TInubu\")"
   ]
  },
  {
   "cell_type": "code",
   "execution_count": 22,
   "metadata": {},
   "outputs": [],
   "source": [
    "\n",
    "\n",
    "\n",
    "emb_model = HuggingFaceEmbeddings(model_name=\"sentence-transformers/all-MiniLM-L6-v2\")\n"
   ]
  },
  {
   "cell_type": "code",
   "execution_count": 26,
   "metadata": {},
   "outputs": [],
   "source": [
    "vector_store = FAISS.from_documents(text_chunks, emb_model)\n",
    "    \n",
    "retriever = vector_store.as_retriever()"
   ]
  },
  {
   "cell_type": "code",
   "execution_count": 28,
   "metadata": {},
   "outputs": [
    {
     "data": {
      "text/plain": [
       "VectorStoreRetriever(tags=['FAISS', 'HuggingFaceEmbeddings'], vectorstore=<langchain_community.vectorstores.faiss.FAISS object at 0x000001872C5011E0>, search_kwargs={})"
      ]
     },
     "execution_count": 28,
     "metadata": {},
     "output_type": "execute_result"
    }
   ],
   "source": [
    "retriever"
   ]
  },
  {
   "cell_type": "code",
   "execution_count": 38,
   "metadata": {},
   "outputs": [],
   "source": [
    "query = \"Tell me about RWIN\"\n",
    "docs=vector_store.similarity_search(query)\n"
   ]
  },
  {
   "cell_type": "code",
   "execution_count": 33,
   "metadata": {},
   "outputs": [
    {
     "data": {
      "text/plain": [
       "[Document(id='913c8975-f37e-448c-9f85-30fd85b130d4', metadata={'source': 'https://rosabon-finance.com/investment/rosabon-treasury-note'}, page_content='Thanks to every good work man/woman of rosabon finance. I want to say that I feel good doing business with you. My appreciation to Peter Okonkwor, you are real and legit in your job, every customer would want to work with you. The business with rosabon finance which started on 30 of April 2020 has officially ended 30 of March 2021 in good relationship. - Rosemary\\n\\nJoin thousands of investors on our platform today and start growing your wealth with confidence.'),\n",
       " Document(id='5d3f16c7-a90c-44f1-9edb-e5e9409c6dd9', metadata={'source': 'https://rosabon-finance.com/investment/rosabon-win-big-note'}, page_content='Thanks to every good work man/woman of rosabon finance. I want to say that I feel good doing business with you. My appreciation to Peter Okonkwor, you are real and legit in your job, every customer would want to work with you. The business with rosabon finance which started on 30 of April 2020 has officially ended 30 of March 2021 in good relationship. - Rosemary\\n\\nJoin thousands of investors on our platform today and start growing your wealth with confidence.'),\n",
       " Document(id='dca47d3a-294c-4a07-9dd0-20094ab8b0fd', metadata={'source': 'https://rosabon-finance.com/investment/rosabon-win-big-note'}, page_content='Rosabon Win Big Note (RWIN)\\n\\nRosabon Win Big Note (RWIN)\\n\\nGet StartedDownload app\\n\\n“For every block of N20,000 placed in your account for 30 days, you get 2% and a chance to win up to N2,500,000 at our monthly draws”\\n\\n\\n\\nGet A Chance To Win Up to N2,500,000\\n\\nGet A Chance To Win Up to N2,500,000\\n\\nWith the Rosabon Win Big Note - RWIN, you get the opportunity to win as high as N2,500,000 on a N20,000 investment\\n\\n\\n\\nShorter Investment Tenor\\n\\nShorter Investment Tenor'),\n",
       " Document(id='f77d73f7-37b7-4671-a920-3e493b20a3d7', metadata={'source': 'https://rosabon-finance.com/about/who-we-are'}, page_content=\"Rosabon Financial Services (RFS) is an award-winning member of the Concept Group licensed by the Central Bank of Nigeria, CBN on April 22, 1993 to provide loans, leases and investments to eligible individuals, SME businesses and Corporate Organizations (medium and Large). A long standing member of the Equipment Leasing Association of Nigeria (ELAN), we have evolved into Nigeria's leading Non-Bank Financial Intermediary and Equipment Leasing firm focused on niche and general markets.\")]"
      ]
     },
     "execution_count": 33,
     "metadata": {},
     "output_type": "execute_result"
    }
   ],
   "source": [
    "docs"
   ]
  },
  {
   "cell_type": "code",
   "execution_count": 34,
   "metadata": {},
   "outputs": [],
   "source": [
    "query_retriever_chain = RetrievalQA.from_chain_type(llm=llm,\n",
    "                                  chain_type=\"stuff\",\n",
    "                                  retriever=retriever,\n",
    "                                  return_source_documents=True)"
   ]
  },
  {
   "cell_type": "code",
   "execution_count": 39,
   "metadata": {},
   "outputs": [],
   "source": [
    "result = query_retriever_chain(query)"
   ]
  },
  {
   "cell_type": "code",
   "execution_count": 40,
   "metadata": {},
   "outputs": [
    {
     "name": "stdout",
     "output_type": "stream",
     "text": [
      "RWIN (Rosabon Win Big Note) is a 30-day investment product that offers a 2% interest rate on every N20,000 invested.  Investors are also entered into a monthly raffle draw with a grand prize of N2,500,000.\n"
     ]
    }
   ],
   "source": [
    "print(result['result'])"
   ]
  },
  {
   "cell_type": "code",
   "execution_count": 41,
   "metadata": {},
   "outputs": [],
   "source": [
    "from langchain.chains import create_retrieval_chain\n",
    "from langchain.chains.combine_documents import create_stuff_documents_chain\n",
    "from langchain_core.prompts import ChatPromptTemplate\n",
    "\n",
    "system_prompt = (\n",
    "    \"You are a helpful and informative AI assistant. \"\n",
    "    \"Your task is to answer questions accurately and concisely using the provided context. \"\n",
    "    \"If the context does not contain the answer, admit that you don't know. \"\n",
    "    \"Avoid speculation or making up answers. \"\n",
    "    \"Focus on extracting relevant information from the context and presenting it in a clear and understandable way. \"\n",
    "    \"\\n\\n\"\n",
    "    \"Context: {context}\"\n",
    ")\n",
    "\n",
    "prompt = ChatPromptTemplate.from_messages(\n",
    "    [\n",
    "        (\"system\", system_prompt),\n",
    "        (\"human\", \"{input}\"),\n",
    "    ]\n",
    ")\n",
    "\n",
    "\n",
    "question_answer_chain = create_stuff_documents_chain(llm, prompt)\n",
    "rag_chain = create_retrieval_chain(retriever, question_answer_chain)"
   ]
  },
  {
   "cell_type": "code",
   "execution_count": 49,
   "metadata": {},
   "outputs": [
    {
     "name": "stdout",
     "output_type": "stream",
     "text": [
      "RWIN (Rosabon Win Big Note) is a 30-day investment with a 2% interest rate on every N20,000 invested.  Investors are also entered into a monthly raffle draw with a grand prize of N2,500,000.\n"
     ]
    }
   ],
   "source": [
    "response = rag_chain.invoke({\"input\": \"Tell me everything I Need to know about RWIN\"})\n",
    "print(response[\"answer\"])"
   ]
  }
 ],
 "metadata": {
  "kernelspec": {
   "display_name": "base",
   "language": "python",
   "name": "python3"
  },
  "language_info": {
   "codemirror_mode": {
    "name": "ipython",
    "version": 3
   },
   "file_extension": ".py",
   "mimetype": "text/x-python",
   "name": "python",
   "nbconvert_exporter": "python",
   "pygments_lexer": "ipython3",
   "version": "3.10.16"
  },
  "orig_nbformat": 4
 },
 "nbformat": 4,
 "nbformat_minor": 2
}
